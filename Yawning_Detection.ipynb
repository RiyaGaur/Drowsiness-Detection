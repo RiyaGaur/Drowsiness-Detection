{
 "cells": [
  {
   "cell_type": "code",
   "execution_count": null,
   "metadata": {},
   "outputs": [],
   "source": [
    "import cv2\n",
    "import dlib\n",
    "import numpy as np\n",
    "from pygame import mixer\n",
    "\n",
    "detector = dlib.get_frontal_face_detector()\n",
    "predictor = dlib.shape_predictor(\"shape_predictor_68_face_landmarks.dat\")\n",
    "cap = cv2.VideoCapture(0)\n",
    "while True:\n",
    "\n",
    "    ret, frame = cap.read()\n",
    "    gray = cv2.cvtColor(frame, cv2.COLOR_BGR2GRAY)\n",
    "\n",
    "    faces = detector(gray)\n",
    "    yawn_status = False\n",
    "    for face in faces:\n",
    "        landmarks = predictor(gray, face)\n",
    "        # nose = landmarks.parts()[27]\n",
    "        # cv2.circle(frame, (nose.x, nose.y), 2, (255, 0, 0), 3)\n",
    "        for point in landmarks.parts():\n",
    "            cv2.circle(frame, (point.x, point.y), 2, (255, 0, 0), 3)\n",
    "        # expression = np.array([[point.x - face.left(), point.y - face.top()] for point in landmarks.parts()[17:]])\n",
    "        lip_up = landmarks.parts()[62].y\n",
    "        lip_down = landmarks.parts()[66].y\n",
    "\n",
    "        if lip_down - lip_up > 20:\n",
    "            yawn_status = True\n",
    "            mixer.init()\n",
    "            mixer.music.load(\"alarm.wav\")\n",
    "            mixer.music.play()\n",
    "\n",
    "        else:\n",
    "            yawn_status = False\n",
    "\n",
    "    if ret:\n",
    "        cv2.imshow(\"My Screen\", frame)\n",
    "\n",
    "    key = cv2.waitKey(1)\n",
    "\n",
    "    if key == ord(\"q\"):\n",
    "        break\n",
    "\n",
    "cap.release()\n",
    "cv2.destroyAllWindows()"
   ]
  }
 ],
 "metadata": {
  "kernelspec": {
   "display_name": "Python 3",
   "language": "python",
   "name": "python3"
  },
  "language_info": {
   "codemirror_mode": {
    "name": "ipython",
    "version": 3
   },
   "file_extension": ".py",
   "mimetype": "text/x-python",
   "name": "python",
   "nbconvert_exporter": "python",
   "pygments_lexer": "ipython3",
   "version": "3.7.6"
  }
 },
 "nbformat": 4,
 "nbformat_minor": 4
}
